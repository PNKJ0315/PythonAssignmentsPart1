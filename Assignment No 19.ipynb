{
 "cells": [
  {
   "cell_type": "code",
   "execution_count": null,
   "id": "6e2ac090",
   "metadata": {},
   "outputs": [],
   "source": [
    "# Assignment No 19\n",
    "# PP to take the list and print the second largest number in he list"
   ]
  },
  {
   "cell_type": "code",
   "execution_count": 4,
   "id": "5868abae",
   "metadata": {},
   "outputs": [
    {
     "name": "stdout",
     "output_type": "stream",
     "text": [
      "How many number you want add in list5\n",
      "enter 0 index number :: 7\n",
      "enter 1 index number :: 8\n",
      "enter 2 index number :: 9\n",
      "enter 3 index number :: 4\n",
      "enter 4 index number :: 5\n",
      "\n",
      "List ::  [7, 8, 9, 4, 5]\n",
      "\n",
      "Largest Number is ::  9\n",
      "\n",
      "Second Largest Number is ::  8\n"
     ]
    }
   ],
   "source": [
    "list1=list()\n",
    "total_count=int(input('How many number you want add in list'))\n",
    "for i in range(total_count):\n",
    "    num=int(input(f'enter {i} index number :: '))\n",
    "    list1.append(num)\n",
    "print('\\nList :: ',list1)\n",
    "# print(max(list1)) #direct method\n",
    "max_num=list1[0]\n",
    "second_max=list1[0]\n",
    "for j in list1:\n",
    "    if j > max_num:\n",
    "        max_num=j\n",
    "print('\\nLargest Number is :: ',max_num)\n",
    "for k in list1:\n",
    "    if k > second_max and k!=max_num:\n",
    "        second_max=k\n",
    "print('\\nSecond Largest Number is :: ',second_max)"
   ]
  },
  {
   "cell_type": "code",
   "execution_count": null,
   "id": "ff337166",
   "metadata": {},
   "outputs": [],
   "source": []
  }
 ],
 "metadata": {
  "kernelspec": {
   "display_name": "Python 3 (ipykernel)",
   "language": "python",
   "name": "python3"
  },
  "language_info": {
   "codemirror_mode": {
    "name": "ipython",
    "version": 3
   },
   "file_extension": ".py",
   "mimetype": "text/x-python",
   "name": "python",
   "nbconvert_exporter": "python",
   "pygments_lexer": "ipython3",
   "version": "3.9.7"
  }
 },
 "nbformat": 4,
 "nbformat_minor": 5
}
