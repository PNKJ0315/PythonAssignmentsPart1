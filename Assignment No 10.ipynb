{
 "cells": [
  {
   "cell_type": "code",
   "execution_count": null,
   "id": "c61f9a1d",
   "metadata": {},
   "outputs": [],
   "source": [
    "# Assignment No 10\n",
    "# pp to find the sum of digits in number"
   ]
  },
  {
   "cell_type": "code",
   "execution_count": 2,
   "id": "74c3771b",
   "metadata": {},
   "outputs": [
    {
     "name": "stdout",
     "output_type": "stream",
     "text": [
      "enter number :: 777\n",
      "Sum of given digit 0 is ::  21\n"
     ]
    }
   ],
   "source": [
    "num=int(input('enter number :: '))\n",
    "sum_of_digit=0\n",
    "while(num!=0):\n",
    "    rem=num%10\n",
    "    sum_of_digit+=rem\n",
    "    num=num//10\n",
    "\n",
    "print(f'Sum of given digit {num} is :: ',sum_of_digit)"
   ]
  },
  {
   "cell_type": "code",
   "execution_count": null,
   "id": "19be759d",
   "metadata": {},
   "outputs": [],
   "source": []
  }
 ],
 "metadata": {
  "kernelspec": {
   "display_name": "Python 3 (ipykernel)",
   "language": "python",
   "name": "python3"
  },
  "language_info": {
   "codemirror_mode": {
    "name": "ipython",
    "version": 3
   },
   "file_extension": ".py",
   "mimetype": "text/x-python",
   "name": "python",
   "nbconvert_exporter": "python",
   "pygments_lexer": "ipython3",
   "version": "3.9.7"
  }
 },
 "nbformat": 4,
 "nbformat_minor": 5
}
