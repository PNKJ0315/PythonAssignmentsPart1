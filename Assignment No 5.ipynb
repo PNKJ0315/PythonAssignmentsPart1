{
 "cells": [
  {
   "cell_type": "code",
   "execution_count": null,
   "id": "4c362c72",
   "metadata": {},
   "outputs": [],
   "source": [
    "'''Assignment No 5\n",
    "python program to take a five subject marks and display the grade\n",
    "'''"
   ]
  },
  {
   "cell_type": "code",
   "execution_count": 17,
   "id": "1a759bc2",
   "metadata": {},
   "outputs": [
    {
     "name": "stdout",
     "output_type": "stream",
     "text": [
      "Enter Subject 1 marks\n",
      "78\n",
      "Enter Subject 2 marks\n",
      "86\n",
      "Enter Subject 3 marks\n",
      "72\n",
      "Enter Subject 4 marks\n",
      "91\n",
      "Enter Subject 5 marks\n",
      "84\n",
      "total is :: 411\n",
      "percentage is :: 82.2\n",
      "You got A+ grade\n"
     ]
    }
   ],
   "source": [
    "list1=[]\n",
    "for i in range(1,6):\n",
    "    print(f'Enter Subject {i} marks :: ')\n",
    "    marks=int(input())\n",
    "    list1.append(marks)\n",
    "#avg=sum(list1)/len(list1)\n",
    "total=sum(list1)\n",
    "print(f'total is :: {total}')\n",
    "percentage=total/len(list1)\n",
    "print(f'percentage is :: {percentage}')\n",
    "print('You got ',end='')\n",
    "if percentage>=75:\n",
    "    print('A+ grade')\n",
    "elif percentage>=60 and percentage<75:\n",
    "    print('A grade')\n",
    "elif percentage>=50 and percentage<60:\n",
    "    print('B grade')\n",
    "elif percentage>=40 and percentage<50:\n",
    "    print('C grade')\n",
    "else:\n",
    "    print('fail')"
   ]
  },
  {
   "cell_type": "code",
   "execution_count": 10,
   "id": "fad94c8d",
   "metadata": {},
   "outputs": [
    {
     "data": {
      "text/plain": [
       "[55, 66, 77, 88, 99]"
      ]
     },
     "execution_count": 10,
     "metadata": {},
     "output_type": "execute_result"
    }
   ],
   "source": [
    "list1"
   ]
  },
  {
   "cell_type": "code",
   "execution_count": null,
   "id": "b387fb3e",
   "metadata": {},
   "outputs": [],
   "source": []
  }
 ],
 "metadata": {
  "kernelspec": {
   "display_name": "Python 3 (ipykernel)",
   "language": "python",
   "name": "python3"
  },
  "language_info": {
   "codemirror_mode": {
    "name": "ipython",
    "version": 3
   },
   "file_extension": ".py",
   "mimetype": "text/x-python",
   "name": "python",
   "nbconvert_exporter": "python",
   "pygments_lexer": "ipython3",
   "version": "3.9.7"
  }
 },
 "nbformat": 4,
 "nbformat_minor": 5
}
