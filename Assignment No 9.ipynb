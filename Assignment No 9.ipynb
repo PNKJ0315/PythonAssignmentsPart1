{
 "cells": [
  {
   "cell_type": "code",
   "execution_count": null,
   "id": "bce52d37",
   "metadata": {},
   "outputs": [],
   "source": [
    "# Assignment No 9\n",
    "# PP to print odd numbers within a given range\n"
   ]
  },
  {
   "cell_type": "code",
   "execution_count": 9,
   "id": "bcb7c246",
   "metadata": {},
   "outputs": [
    {
     "name": "stdout",
     "output_type": "stream",
     "text": [
      "Enter the starting number :: 1\n",
      "Enter the ending number :: 100\n",
      "Odd numbers from 1 to 100 are ::\n",
      "1 3 5 7 9 11 13 15 17 19 21 23 25 27 29 31 33 35 37 39 41 43 45 47 49 51 53 55 57 59 61 63 65 67 69 71 73 75 77 79 81 83 85 87 89 91 93 95 97 99 "
     ]
    }
   ],
   "source": [
    "start_num=int(input(\"Enter the starting number :: \"))\n",
    "end_num=int(input(\"Enter the ending number :: \"))\n",
    "print(f'Odd numbers from {start_num} to {end_num} are ::')\n",
    "for i in range(start_num,end_num):\n",
    "    if i % 2 != 0:\n",
    "        print(i, end =\" \")\n",
    "    "
   ]
  },
  {
   "cell_type": "code",
   "execution_count": null,
   "id": "182cc09e",
   "metadata": {},
   "outputs": [],
   "source": []
  }
 ],
 "metadata": {
  "kernelspec": {
   "display_name": "Python 3 (ipykernel)",
   "language": "python",
   "name": "python3"
  },
  "language_info": {
   "codemirror_mode": {
    "name": "ipython",
    "version": 3
   },
   "file_extension": ".py",
   "mimetype": "text/x-python",
   "name": "python",
   "nbconvert_exporter": "python",
   "pygments_lexer": "ipython3",
   "version": "3.9.7"
  }
 },
 "nbformat": 4,
 "nbformat_minor": 5
}
