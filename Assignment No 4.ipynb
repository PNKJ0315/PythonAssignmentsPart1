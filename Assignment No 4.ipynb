{
 "cells": [
  {
   "cell_type": "code",
   "execution_count": null,
   "id": "7fb17f98",
   "metadata": {},
   "outputs": [],
   "source": [
    "'''Assignment No. 4\n",
    "Python progam to reverse the given number\n",
    "'''"
   ]
  },
  {
   "cell_type": "code",
   "execution_count": 21,
   "id": "451f9677",
   "metadata": {},
   "outputs": [
    {
     "name": "stdout",
     "output_type": "stream",
     "text": [
      "enter number :: 684257\n",
      "752486\n"
     ]
    }
   ],
   "source": [
    "num = int(input('enter number :: '))\n",
    "rev=0\n",
    "while num != 0:  # do until value becomes zero\n",
    "    remd = num % 10; # gives us remainder of given number\n",
    "    rev = rev * 10 + remd; # multiply rev variable by 10 and adding remainder into it\n",
    "    num = num // 10; # num dividing by 10 for getting quotient\n",
    "print(rev)"
   ]
  },
  {
   "cell_type": "code",
   "execution_count": null,
   "id": "58c885e5",
   "metadata": {},
   "outputs": [],
   "source": []
  }
 ],
 "metadata": {
  "kernelspec": {
   "display_name": "Python 3 (ipykernel)",
   "language": "python",
   "name": "python3"
  },
  "language_info": {
   "codemirror_mode": {
    "name": "ipython",
    "version": 3
   },
   "file_extension": ".py",
   "mimetype": "text/x-python",
   "name": "python",
   "nbconvert_exporter": "python",
   "pygments_lexer": "ipython3",
   "version": "3.9.7"
  }
 },
 "nbformat": 4,
 "nbformat_minor": 5
}
