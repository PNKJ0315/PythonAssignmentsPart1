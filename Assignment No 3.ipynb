{
 "cells": [
  {
   "cell_type": "code",
   "execution_count": 2,
   "id": "5c6d0fbf",
   "metadata": {},
   "outputs": [
    {
     "data": {
      "text/plain": [
       "'Assignment No 3\\npython program to a read number n and compute n+nn+nnn+nnnn'"
      ]
     },
     "execution_count": 2,
     "metadata": {},
     "output_type": "execute_result"
    }
   ],
   "source": [
    "'''Assignment No 3\n",
    "python program to a read number n and compute n+nn+nnn+nnnn'''"
   ]
  },
  {
   "cell_type": "code",
   "execution_count": null,
   "id": "985b4335",
   "metadata": {},
   "outputs": [],
   "source": [
    "'''\n",
    "    n+nn+nnn+nnn\n",
    "    if user i/p : 2\n",
    "    2+22+222+2222\n",
    "    result = 2468\n",
    "'''"
   ]
  },
  {
   "cell_type": "code",
   "execution_count": 46,
   "id": "636ec4d2",
   "metadata": {},
   "outputs": [
    {
     "name": "stdout",
     "output_type": "stream",
     "text": [
      "Enter Number :: 2\n"
     ]
    }
   ],
   "source": [
    "num = int(input(\"Enter Number :: \")) #get input from user and stored it in variable num"
   ]
  },
  {
   "cell_type": "code",
   "execution_count": 35,
   "id": "973885aa",
   "metadata": {},
   "outputs": [],
   "source": [
    "\n",
    "t=str(num) #typecasting int value to string for concatination\n"
   ]
  },
  {
   "cell_type": "code",
   "execution_count": 36,
   "id": "6ac5c152",
   "metadata": {},
   "outputs": [
    {
     "data": {
      "text/plain": [
       "'2'"
      ]
     },
     "execution_count": 36,
     "metadata": {},
     "output_type": "execute_result"
    }
   ],
   "source": [
    "t"
   ]
  },
  {
   "cell_type": "code",
   "execution_count": 37,
   "id": "1918b5b3",
   "metadata": {},
   "outputs": [],
   "source": [
    "t1=t+t #concatinating to get 'nn'"
   ]
  },
  {
   "cell_type": "code",
   "execution_count": 38,
   "id": "80f2fab8",
   "metadata": {},
   "outputs": [
    {
     "data": {
      "text/plain": [
       "'22'"
      ]
     },
     "execution_count": 38,
     "metadata": {},
     "output_type": "execute_result"
    }
   ],
   "source": [
    "t1"
   ]
  },
  {
   "cell_type": "code",
   "execution_count": 39,
   "id": "b34b3ce2",
   "metadata": {},
   "outputs": [],
   "source": [
    "t2=t+t+t #concatinating to get 'nnn'"
   ]
  },
  {
   "cell_type": "code",
   "execution_count": 40,
   "id": "e66e76df",
   "metadata": {},
   "outputs": [
    {
     "data": {
      "text/plain": [
       "'222'"
      ]
     },
     "execution_count": 40,
     "metadata": {},
     "output_type": "execute_result"
    }
   ],
   "source": [
    "t2"
   ]
  },
  {
   "cell_type": "code",
   "execution_count": 41,
   "id": "89f31136",
   "metadata": {},
   "outputs": [],
   "source": [
    "t3=t+t+t+t #concatinating to get 'nnnn'"
   ]
  },
  {
   "cell_type": "code",
   "execution_count": 42,
   "id": "12238319",
   "metadata": {},
   "outputs": [
    {
     "data": {
      "text/plain": [
       "'2222'"
      ]
     },
     "execution_count": 42,
     "metadata": {},
     "output_type": "execute_result"
    }
   ],
   "source": [
    "t3"
   ]
  },
  {
   "cell_type": "code",
   "execution_count": 43,
   "id": "fb43b274",
   "metadata": {},
   "outputs": [],
   "source": [
    "addition = n + int(t1) + int(t2) + int(t3) #calculating sum of given number by typecasting string into int"
   ]
  },
  {
   "cell_type": "code",
   "execution_count": 47,
   "id": "cc694270",
   "metadata": {},
   "outputs": [
    {
     "name": "stdout",
     "output_type": "stream",
     "text": [
      "The value is: 2468\n"
     ]
    }
   ],
   "source": [
    "print(\"The value is:\",addition) # printing the result"
   ]
  },
  {
   "cell_type": "code",
   "execution_count": 59,
   "id": "5808e1c2",
   "metadata": {},
   "outputs": [
    {
     "name": "stdout",
     "output_type": "stream",
     "text": [
      "Enter Number(n) :: 5\n",
      "The sum of : 5+55+555+5555 is ::  6167\n"
     ]
    }
   ],
   "source": [
    "#combine program\n",
    "num = int(input(\"Enter Number(n) :: \"))\n",
    "t=str(num)\n",
    "t1=t+t\n",
    "t2=t+t+t\n",
    "t3=t+t+t+t\n",
    "addition = n + int(t1) + int(t2) + int(t3)\n",
    "print(f\"The sum of : {t}+{t1}+{t2}+{t3} is :: \",addition)"
   ]
  },
  {
   "cell_type": "code",
   "execution_count": null,
   "id": "a24f82e9",
   "metadata": {},
   "outputs": [],
   "source": []
  }
 ],
 "metadata": {
  "kernelspec": {
   "display_name": "Python 3 (ipykernel)",
   "language": "python",
   "name": "python3"
  },
  "language_info": {
   "codemirror_mode": {
    "name": "ipython",
    "version": 3
   },
   "file_extension": ".py",
   "mimetype": "text/x-python",
   "name": "python",
   "nbconvert_exporter": "python",
   "pygments_lexer": "ipython3",
   "version": "3.9.7"
  }
 },
 "nbformat": 4,
 "nbformat_minor": 5
}
