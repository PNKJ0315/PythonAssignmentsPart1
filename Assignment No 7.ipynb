{
 "cells": [
  {
   "cell_type": "code",
   "execution_count": null,
   "id": "70e59138",
   "metadata": {},
   "outputs": [],
   "source": [
    "'''Assignment No 7\n",
    "PP to read two numbers and print there quotient and reminder\n",
    "'''"
   ]
  },
  {
   "cell_type": "code",
   "execution_count": 1,
   "id": "f6dd6a9f",
   "metadata": {},
   "outputs": [
    {
     "name": "stdout",
     "output_type": "stream",
     "text": [
      "enter num 1 :: 78\n",
      "enter num 2 :: 4\n",
      "Quotient is ::  19\n",
      "Remainder is ::  2\n"
     ]
    }
   ],
   "source": [
    "num1=int(input('enter num 1 :: '))\n",
    "num2=int(input('enter num 2 :: '))\n",
    "print('Quotient is :: ',num1//num2)\n",
    "print('Remainder is :: ',num1%num2)"
   ]
  },
  {
   "cell_type": "code",
   "execution_count": null,
   "id": "d7672ebc",
   "metadata": {},
   "outputs": [],
   "source": []
  }
 ],
 "metadata": {
  "kernelspec": {
   "display_name": "Python 3 (ipykernel)",
   "language": "python",
   "name": "python3"
  },
  "language_info": {
   "codemirror_mode": {
    "name": "ipython",
    "version": 3
   },
   "file_extension": ".py",
   "mimetype": "text/x-python",
   "name": "python",
   "nbconvert_exporter": "python",
   "pygments_lexer": "ipython3",
   "version": "3.9.7"
  }
 },
 "nbformat": 4,
 "nbformat_minor": 5
}
