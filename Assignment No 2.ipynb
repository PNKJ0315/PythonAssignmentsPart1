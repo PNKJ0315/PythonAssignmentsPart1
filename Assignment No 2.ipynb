{
 "cells": [
  {
   "cell_type": "code",
   "execution_count": 1,
   "id": "a4579273",
   "metadata": {},
   "outputs": [
    {
     "data": {
      "text/plain": [
       "'Python program to exchange the values of two numbers without using third variable'"
      ]
     },
     "execution_count": 1,
     "metadata": {},
     "output_type": "execute_result"
    }
   ],
   "source": [
    "''' Assignment No. 02\n",
    "Python program to exchange the values of two numbers without using third variable'''"
   ]
  },
  {
   "cell_type": "code",
   "execution_count": 5,
   "id": "ae841907",
   "metadata": {},
   "outputs": [],
   "source": [
    "num1=100\n",
    "num2=200"
   ]
  },
  {
   "cell_type": "code",
   "execution_count": 6,
   "id": "42cfadd2",
   "metadata": {},
   "outputs": [
    {
     "data": {
      "text/plain": [
       "100"
      ]
     },
     "execution_count": 6,
     "metadata": {},
     "output_type": "execute_result"
    }
   ],
   "source": [
    "num1"
   ]
  },
  {
   "cell_type": "code",
   "execution_count": 8,
   "id": "bc27d7b3",
   "metadata": {},
   "outputs": [
    {
     "data": {
      "text/plain": [
       "200"
      ]
     },
     "execution_count": 8,
     "metadata": {},
     "output_type": "execute_result"
    }
   ],
   "source": [
    "num2"
   ]
  },
  {
   "cell_type": "code",
   "execution_count": 9,
   "id": "815f6774",
   "metadata": {},
   "outputs": [],
   "source": [
    "#1st way\n",
    "num1 = num1 + num2 # num1 = 100 + 200, num1=300\n",
    "num2 = num1 - num2 # num2 = 300 - 200, num2=100\n",
    "num1 = num1 - num2 # num1 = 300 - 100, num1=200"
   ]
  },
  {
   "cell_type": "code",
   "execution_count": 10,
   "id": "0def9ce3",
   "metadata": {},
   "outputs": [
    {
     "data": {
      "text/plain": [
       "200"
      ]
     },
     "execution_count": 10,
     "metadata": {},
     "output_type": "execute_result"
    }
   ],
   "source": [
    "num1"
   ]
  },
  {
   "cell_type": "code",
   "execution_count": 11,
   "id": "e3505f03",
   "metadata": {},
   "outputs": [
    {
     "data": {
      "text/plain": [
       "100"
      ]
     },
     "execution_count": 11,
     "metadata": {},
     "output_type": "execute_result"
    }
   ],
   "source": [
    "num2"
   ]
  },
  {
   "cell_type": "code",
   "execution_count": 16,
   "id": "6470ab7d",
   "metadata": {},
   "outputs": [],
   "source": [
    "#2nd way\n",
    "num1 = 10\n",
    "num2 = 20\n"
   ]
  },
  {
   "cell_type": "code",
   "execution_count": 19,
   "id": "49987b01",
   "metadata": {},
   "outputs": [],
   "source": [
    "num1 = num1 * num2 # num1 = 10 * 20, num1=200\n",
    "num2 = num1 / num2 # num2 = 200 / 20, num2=10\n",
    "num1 = num1 / num2 # num1 = 200 / 10, num1=20"
   ]
  },
  {
   "cell_type": "code",
   "execution_count": 20,
   "id": "ca82cb17",
   "metadata": {},
   "outputs": [
    {
     "data": {
      "text/plain": [
       "20.0"
      ]
     },
     "execution_count": 20,
     "metadata": {},
     "output_type": "execute_result"
    }
   ],
   "source": [
    "num1"
   ]
  },
  {
   "cell_type": "code",
   "execution_count": 21,
   "id": "4a07f490",
   "metadata": {},
   "outputs": [
    {
     "data": {
      "text/plain": [
       "10.0"
      ]
     },
     "execution_count": 21,
     "metadata": {},
     "output_type": "execute_result"
    }
   ],
   "source": [
    "num2"
   ]
  },
  {
   "cell_type": "code",
   "execution_count": 24,
   "id": "d26e6ab4",
   "metadata": {},
   "outputs": [],
   "source": [
    "#3rd way \n",
    "num1=1000\n",
    "num2=2000"
   ]
  },
  {
   "cell_type": "code",
   "execution_count": 25,
   "id": "074c947b",
   "metadata": {},
   "outputs": [
    {
     "data": {
      "text/plain": [
       "1000"
      ]
     },
     "execution_count": 25,
     "metadata": {},
     "output_type": "execute_result"
    }
   ],
   "source": [
    "num1"
   ]
  },
  {
   "cell_type": "code",
   "execution_count": 26,
   "id": "e68fbf03",
   "metadata": {},
   "outputs": [
    {
     "data": {
      "text/plain": [
       "2000"
      ]
     },
     "execution_count": 26,
     "metadata": {},
     "output_type": "execute_result"
    }
   ],
   "source": [
    "num2"
   ]
  },
  {
   "cell_type": "code",
   "execution_count": 27,
   "id": "f98dc509",
   "metadata": {},
   "outputs": [],
   "source": [
    "num1,num2=num2,num1 #swap two numbers"
   ]
  },
  {
   "cell_type": "code",
   "execution_count": 28,
   "id": "926b0060",
   "metadata": {},
   "outputs": [
    {
     "data": {
      "text/plain": [
       "2000"
      ]
     },
     "execution_count": 28,
     "metadata": {},
     "output_type": "execute_result"
    }
   ],
   "source": [
    "num1"
   ]
  },
  {
   "cell_type": "code",
   "execution_count": 29,
   "id": "df293a8b",
   "metadata": {},
   "outputs": [
    {
     "data": {
      "text/plain": [
       "1000"
      ]
     },
     "execution_count": 29,
     "metadata": {},
     "output_type": "execute_result"
    }
   ],
   "source": [
    "num2"
   ]
  },
  {
   "cell_type": "code",
   "execution_count": 36,
   "id": "4c95d10b",
   "metadata": {},
   "outputs": [],
   "source": [
    "#swaping string values\n",
    "str1='A'\n",
    "str2='B'"
   ]
  },
  {
   "cell_type": "code",
   "execution_count": 37,
   "id": "f0736462",
   "metadata": {},
   "outputs": [
    {
     "data": {
      "text/plain": [
       "'A'"
      ]
     },
     "execution_count": 37,
     "metadata": {},
     "output_type": "execute_result"
    }
   ],
   "source": [
    "str1"
   ]
  },
  {
   "cell_type": "code",
   "execution_count": 38,
   "id": "9fa010b8",
   "metadata": {},
   "outputs": [
    {
     "data": {
      "text/plain": [
       "'B'"
      ]
     },
     "execution_count": 38,
     "metadata": {},
     "output_type": "execute_result"
    }
   ],
   "source": [
    "str2"
   ]
  },
  {
   "cell_type": "code",
   "execution_count": 39,
   "id": "464b237c",
   "metadata": {},
   "outputs": [],
   "source": [
    "str1,str2=str2,str1 #swap two string"
   ]
  },
  {
   "cell_type": "code",
   "execution_count": 40,
   "id": "31e2bc1b",
   "metadata": {},
   "outputs": [
    {
     "data": {
      "text/plain": [
       "'B'"
      ]
     },
     "execution_count": 40,
     "metadata": {},
     "output_type": "execute_result"
    }
   ],
   "source": [
    "str1"
   ]
  },
  {
   "cell_type": "code",
   "execution_count": 41,
   "id": "cf7fc475",
   "metadata": {},
   "outputs": [
    {
     "data": {
      "text/plain": [
       "'A'"
      ]
     },
     "execution_count": 41,
     "metadata": {},
     "output_type": "execute_result"
    }
   ],
   "source": [
    "str2"
   ]
  },
  {
   "cell_type": "code",
   "execution_count": null,
   "id": "c321647c",
   "metadata": {},
   "outputs": [],
   "source": []
  }
 ],
 "metadata": {
  "kernelspec": {
   "display_name": "Python 3 (ipykernel)",
   "language": "python",
   "name": "python3"
  },
  "language_info": {
   "codemirror_mode": {
    "name": "ipython",
    "version": 3
   },
   "file_extension": ".py",
   "mimetype": "text/x-python",
   "name": "python",
   "nbconvert_exporter": "python",
   "pygments_lexer": "ipython3",
   "version": "3.9.7"
  }
 },
 "nbformat": 4,
 "nbformat_minor": 5
}
