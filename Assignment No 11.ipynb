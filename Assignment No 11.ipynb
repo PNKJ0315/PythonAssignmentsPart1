{
 "cells": [
  {
   "cell_type": "code",
   "execution_count": null,
   "id": "ac4373c6",
   "metadata": {},
   "outputs": [],
   "source": [
    "# Assignment No 11\n",
    "# PP to find smallest divisor of integer"
   ]
  },
  {
   "cell_type": "code",
   "execution_count": 40,
   "id": "16cd33ad",
   "metadata": {},
   "outputs": [
    {
     "name": "stdout",
     "output_type": "stream",
     "text": [
      "Enter Number :: 789\n",
      "[3, 263, 789]\n",
      "Smallest Divisor is ::  3\n"
     ]
    }
   ],
   "source": [
    "num=int(input('Enter Number :: '))\n",
    "divisor=[]\n",
    "for i in range(2,num+1):\n",
    "    if(num%i==0):\n",
    "        divisor.append(i)\n",
    "print(divisor)\n",
    "print('Smallest Divisor is :: ',divisor[0])\n",
    "if len(divisor)==1:\n",
    "    print(f'{num} is Prime Number')"
   ]
  },
  {
   "cell_type": "code",
   "execution_count": null,
   "id": "07695c18",
   "metadata": {},
   "outputs": [],
   "source": []
  },
  {
   "cell_type": "code",
   "execution_count": null,
   "id": "1bf45e9c",
   "metadata": {},
   "outputs": [],
   "source": []
  }
 ],
 "metadata": {
  "kernelspec": {
   "display_name": "Python 3 (ipykernel)",
   "language": "python",
   "name": "python3"
  },
  "language_info": {
   "codemirror_mode": {
    "name": "ipython",
    "version": 3
   },
   "file_extension": ".py",
   "mimetype": "text/x-python",
   "name": "python",
   "nbconvert_exporter": "python",
   "pygments_lexer": "ipython3",
   "version": "3.9.7"
  }
 },
 "nbformat": 4,
 "nbformat_minor": 5
}
