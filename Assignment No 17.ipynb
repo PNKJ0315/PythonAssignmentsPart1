{
 "cells": [
  {
   "cell_type": "code",
   "execution_count": null,
   "id": "452cba8e",
   "metadata": {},
   "outputs": [],
   "source": [
    "# Assignment No 17\n",
    "# PP to print inverted star Pattern\n",
    "# ****\n",
    "#  ***\n",
    "#   **\n",
    "#    *"
   ]
  },
  {
   "cell_type": "code",
   "execution_count": 25,
   "id": "cbb0822a",
   "metadata": {},
   "outputs": [
    {
     "name": "stdout",
     "output_type": "stream",
     "text": [
      "Enter num4\n",
      "****\n",
      " ***\n",
      "  **\n",
      "   *\n"
     ]
    }
   ],
   "source": [
    "num=int(input('Enter num'))\n",
    "for i in range(num,0,-1):\n",
    "    print((num-i)*\" \"+i*'*')"
   ]
  },
  {
   "cell_type": "code",
   "execution_count": null,
   "id": "2f623618",
   "metadata": {},
   "outputs": [],
   "source": []
  }
 ],
 "metadata": {
  "kernelspec": {
   "display_name": "Python 3 (ipykernel)",
   "language": "python",
   "name": "python3"
  },
  "language_info": {
   "codemirror_mode": {
    "name": "ipython",
    "version": 3
   },
   "file_extension": ".py",
   "mimetype": "text/x-python",
   "name": "python",
   "nbconvert_exporter": "python",
   "pygments_lexer": "ipython3",
   "version": "3.9.7"
  }
 },
 "nbformat": 4,
 "nbformat_minor": 5
}
