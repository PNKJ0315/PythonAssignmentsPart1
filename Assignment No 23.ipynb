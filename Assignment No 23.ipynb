{
 "cells": [
  {
   "cell_type": "code",
   "execution_count": null,
   "id": "fab24297",
   "metadata": {},
   "outputs": [],
   "source": [
    "# Assignment No 23\n",
    "# PP to swap the first and last value of the list"
   ]
  },
  {
   "cell_type": "code",
   "execution_count": 1,
   "id": "f0fd051f",
   "metadata": {},
   "outputs": [],
   "source": [
    "list1=[10,20,30,40,50,60]"
   ]
  },
  {
   "cell_type": "code",
   "execution_count": 2,
   "id": "a5643d15",
   "metadata": {},
   "outputs": [],
   "source": [
    "list1[0],list1[-1]=list1[-1],list1[0]"
   ]
  },
  {
   "cell_type": "code",
   "execution_count": 3,
   "id": "bebb9f62",
   "metadata": {},
   "outputs": [
    {
     "data": {
      "text/plain": [
       "[60, 20, 30, 40, 50, 10]"
      ]
     },
     "execution_count": 3,
     "metadata": {},
     "output_type": "execute_result"
    }
   ],
   "source": [
    "list1"
   ]
  },
  {
   "cell_type": "code",
   "execution_count": null,
   "id": "653cd2b9",
   "metadata": {},
   "outputs": [],
   "source": [
    "# OR"
   ]
  },
  {
   "cell_type": "code",
   "execution_count": 11,
   "id": "05d5405d",
   "metadata": {},
   "outputs": [],
   "source": [
    "test =[1,2,3,4,5,6,7,8,9,0]"
   ]
  },
  {
   "cell_type": "code",
   "execution_count": 12,
   "id": "4d5b9a78",
   "metadata": {},
   "outputs": [
    {
     "data": {
      "text/plain": [
       "[1, 2, 3, 4, 5, 6, 7, 8, 9, 0]"
      ]
     },
     "execution_count": 12,
     "metadata": {},
     "output_type": "execute_result"
    }
   ],
   "source": [
    "test"
   ]
  },
  {
   "cell_type": "code",
   "execution_count": 13,
   "id": "4c41f7d1",
   "metadata": {},
   "outputs": [],
   "source": [
    "temp=test[0]\n",
    "test[0]=test[-1]\n",
    "test[-1]=temp"
   ]
  },
  {
   "cell_type": "code",
   "execution_count": 14,
   "id": "f39e6144",
   "metadata": {},
   "outputs": [
    {
     "data": {
      "text/plain": [
       "[0, 2, 3, 4, 5, 6, 7, 8, 9, 1]"
      ]
     },
     "execution_count": 14,
     "metadata": {},
     "output_type": "execute_result"
    }
   ],
   "source": [
    "test"
   ]
  },
  {
   "cell_type": "code",
   "execution_count": null,
   "id": "e180e35e",
   "metadata": {},
   "outputs": [],
   "source": []
  }
 ],
 "metadata": {
  "kernelspec": {
   "display_name": "Python 3 (ipykernel)",
   "language": "python",
   "name": "python3"
  },
  "language_info": {
   "codemirror_mode": {
    "name": "ipython",
    "version": 3
   },
   "file_extension": ".py",
   "mimetype": "text/x-python",
   "name": "python",
   "nbconvert_exporter": "python",
   "pygments_lexer": "ipython3",
   "version": "3.9.7"
  }
 },
 "nbformat": 4,
 "nbformat_minor": 5
}
