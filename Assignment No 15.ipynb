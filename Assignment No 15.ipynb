{
 "cells": [
  {
   "cell_type": "code",
   "execution_count": null,
   "id": "175a88c9",
   "metadata": {},
   "outputs": [],
   "source": [
    "# Assignment No 15\n",
    "# PP to read N numbers and print the series 1+2+.....+N"
   ]
  },
  {
   "cell_type": "code",
   "execution_count": 15,
   "id": "c0e65ec1",
   "metadata": {},
   "outputs": [
    {
     "name": "stdout",
     "output_type": "stream",
     "text": [
      "enter number :: 5\n",
      "1 + 2 + 3 + 4 + 5  Total is ::  15\n"
     ]
    }
   ],
   "source": [
    "num=int(input('enter number :: '))\n",
    "total=1\n",
    "print(total,end='')\n",
    "for i in range(2,num+1):\n",
    "    print(f' + {i}',end='')\n",
    "    total+=i\n",
    "print('  Total is :: ',total)"
   ]
  },
  {
   "cell_type": "code",
   "execution_count": null,
   "id": "26ca9020",
   "metadata": {},
   "outputs": [],
   "source": []
  }
 ],
 "metadata": {
  "kernelspec": {
   "display_name": "Python 3 (ipykernel)",
   "language": "python",
   "name": "python3"
  },
  "language_info": {
   "codemirror_mode": {
    "name": "ipython",
    "version": 3
   },
   "file_extension": ".py",
   "mimetype": "text/x-python",
   "name": "python",
   "nbconvert_exporter": "python",
   "pygments_lexer": "ipython3",
   "version": "3.9.7"
  }
 },
 "nbformat": 4,
 "nbformat_minor": 5
}
