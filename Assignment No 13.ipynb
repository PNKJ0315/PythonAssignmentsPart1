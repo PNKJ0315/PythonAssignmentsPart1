{
 "cells": [
  {
   "cell_type": "code",
   "execution_count": null,
   "id": "7e628426",
   "metadata": {},
   "outputs": [],
   "source": [
    "# Assignment No 13\n",
    "# 13 PP to check if the number is palindrome"
   ]
  },
  {
   "cell_type": "code",
   "execution_count": 3,
   "id": "0fae2092",
   "metadata": {},
   "outputs": [
    {
     "name": "stdout",
     "output_type": "stream",
     "text": [
      "enter number :: 454\n",
      "454\n",
      "number is palindrome\n"
     ]
    }
   ],
   "source": [
    "num=int(input('enter number :: '))\n",
    "temp=num\n",
    "rev=0\n",
    "while(num!=0):\n",
    "    rem=num%10\n",
    "    rev=rev*10+rem\n",
    "    num=num//10\n",
    "print(rev)\n",
    "if temp==rev:\n",
    "    print('number is palindrome')\n",
    "else:\n",
    "    print('number is not palindrome')"
   ]
  },
  {
   "cell_type": "code",
   "execution_count": null,
   "id": "7fa6d4dc",
   "metadata": {},
   "outputs": [],
   "source": []
  }
 ],
 "metadata": {
  "kernelspec": {
   "display_name": "Python 3 (ipykernel)",
   "language": "python",
   "name": "python3"
  },
  "language_info": {
   "codemirror_mode": {
    "name": "ipython",
    "version": 3
   },
   "file_extension": ".py",
   "mimetype": "text/x-python",
   "name": "python",
   "nbconvert_exporter": "python",
   "pygments_lexer": "ipython3",
   "version": "3.9.7"
  }
 },
 "nbformat": 4,
 "nbformat_minor": 5
}
