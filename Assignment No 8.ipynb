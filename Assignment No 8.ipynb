{
 "cells": [
  {
   "cell_type": "code",
   "execution_count": null,
   "id": "9db0c97b",
   "metadata": {},
   "outputs": [],
   "source": [
    "'''Assignment No 8\n",
    "PP to accept three digits and print all possible combinations from digits\n",
    "'''"
   ]
  },
  {
   "cell_type": "code",
   "execution_count": 1,
   "id": "dbcb5912",
   "metadata": {},
   "outputs": [
    {
     "name": "stdout",
     "output_type": "stream",
     "text": [
      "Enter 3 Digit Number :: 789\n",
      "7 8 9\n",
      "7 9 8\n",
      "8 7 9\n",
      "8 9 7\n",
      "9 7 8\n",
      "9 8 7\n"
     ]
    }
   ],
   "source": [
    "num = int(input('Enter 3 Digit Number :: '))\n",
    "list1=[]\n",
    "while num != 0:  \n",
    "    remd = num % 10;\n",
    "    list1.append(remd)\n",
    "    num = num // 10; \n",
    "list1.reverse()\n",
    "#print(list1)\n",
    "for i in range(3):\n",
    "    for j in range(3):\n",
    "        for k in range(3):\n",
    "            if(i!=j and j!=k and i!=k):\n",
    "                print(list1[i],list1[j],list1[k],)\n",
    "                "
   ]
  },
  {
   "cell_type": "code",
   "execution_count": null,
   "id": "e6cfd139",
   "metadata": {},
   "outputs": [],
   "source": []
  }
 ],
 "metadata": {
  "kernelspec": {
   "display_name": "Python 3 (ipykernel)",
   "language": "python",
   "name": "python3"
  },
  "language_info": {
   "codemirror_mode": {
    "name": "ipython",
    "version": 3
   },
   "file_extension": ".py",
   "mimetype": "text/x-python",
   "name": "python",
   "nbconvert_exporter": "python",
   "pygments_lexer": "ipython3",
   "version": "3.9.7"
  }
 },
 "nbformat": 4,
 "nbformat_minor": 5
}
