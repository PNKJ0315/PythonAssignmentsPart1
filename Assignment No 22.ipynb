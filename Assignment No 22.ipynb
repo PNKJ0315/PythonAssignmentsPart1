{
 "cells": [
  {
   "cell_type": "code",
   "execution_count": null,
   "id": "aded12a3",
   "metadata": {},
   "outputs": [],
   "source": [
    "# Assignment No 22\n",
    "# PP to find the count of numbers and display in dictionary"
   ]
  },
  {
   "cell_type": "code",
   "execution_count": 20,
   "id": "844e8301",
   "metadata": {},
   "outputs": [
    {
     "name": "stdout",
     "output_type": "stream",
     "text": [
      "Enter Number ::02112452491\n",
      "{2: 3, 1: 3, 4: 2, 5: 1, 9: 1}\n"
     ]
    }
   ],
   "source": [
    "num=int(input('Enter Number ::'))\n",
    "list1=[]\n",
    "while(num!=0):\n",
    "    rem=num%10\n",
    "    list1.insert(0,rem)\n",
    "    num=num//10\n",
    "dict1={}\n",
    "for i in list1:\n",
    "    if (i in dict1):\n",
    "        dict1[i] +=1\n",
    "    else:\n",
    "        dict1[i] =1\n",
    "print(dict1)"
   ]
  },
  {
   "cell_type": "code",
   "execution_count": 3,
   "id": "2f637772",
   "metadata": {},
   "outputs": [],
   "source": []
  },
  {
   "cell_type": "code",
   "execution_count": null,
   "id": "98405071",
   "metadata": {},
   "outputs": [],
   "source": [
    "#count char from string and displaying char count in dictionary"
   ]
  },
  {
   "cell_type": "code",
   "execution_count": 17,
   "id": "0666857a",
   "metadata": {},
   "outputs": [
    {
     "name": "stdout",
     "output_type": "stream",
     "text": [
      "{'h': 1, 'e': 1, 'l': 2, 'o': 1}\n"
     ]
    }
   ],
   "source": [
    "input_string='hello'\n",
    "count_char={}\n",
    "for i in input_string:\n",
    "    if i in count_char:\n",
    "        count_char[i]+=1\n",
    "    else:\n",
    "        count_char[i]=1\n",
    "print(count_char)"
   ]
  },
  {
   "cell_type": "code",
   "execution_count": null,
   "id": "d0dc0088",
   "metadata": {},
   "outputs": [],
   "source": []
  },
  {
   "cell_type": "code",
   "execution_count": null,
   "id": "814f47e2",
   "metadata": {},
   "outputs": [],
   "source": [
    "#count char from string in list having number of elements and displaying char count in dictionary"
   ]
  },
  {
   "cell_type": "code",
   "execution_count": 2,
   "id": "160ce8e1",
   "metadata": {},
   "outputs": [
    {
     "name": "stdout",
     "output_type": "stream",
     "text": [
      "{'w': 2, 'e': 2, 'l': 2, 'c': 1, 'o': 4, 'm': 2, 't': 2, 'y': 2, 'r': 1, 'd': 1, 'p': 1, 'h': 1, 'n': 1}\n"
     ]
    }
   ],
   "source": [
    "list1=['welcome','to','my','world','python']\n",
    "freq1={}\n",
    "for i in list1:\n",
    "    for j in i:\n",
    "        if j in freq1:\n",
    "            freq1[j]+=1\n",
    "        else:\n",
    "            freq1[j]=1\n",
    "print(freq1)"
   ]
  },
  {
   "cell_type": "code",
   "execution_count": 4,
   "id": "990543d2",
   "metadata": {},
   "outputs": [],
   "source": [
    "# [j for i in list1 for j in i]"
   ]
  },
  {
   "cell_type": "code",
   "execution_count": 21,
   "id": "31852681",
   "metadata": {},
   "outputs": [
    {
     "data": {
      "text/plain": [
       "dict_keys(['h', 'e', 'l', 'o'])"
      ]
     },
     "execution_count": 21,
     "metadata": {},
     "output_type": "execute_result"
    }
   ],
   "source": [
    "freq.keys()"
   ]
  },
  {
   "cell_type": "code",
   "execution_count": 23,
   "id": "b00bfb5b",
   "metadata": {},
   "outputs": [
    {
     "data": {
      "text/plain": [
       "dict_keys(['w', 'e', 'l', 'c', 'o', 'm', 't', 'y', 'r', 'd', 'p', 'h', 'n'])"
      ]
     },
     "execution_count": 23,
     "metadata": {},
     "output_type": "execute_result"
    }
   ],
   "source": [
    "freq1.keys()"
   ]
  },
  {
   "cell_type": "code",
   "execution_count": null,
   "id": "1140e261",
   "metadata": {},
   "outputs": [],
   "source": []
  }
 ],
 "metadata": {
  "kernelspec": {
   "display_name": "Python 3 (ipykernel)",
   "language": "python",
   "name": "python3"
  },
  "language_info": {
   "codemirror_mode": {
    "name": "ipython",
    "version": 3
   },
   "file_extension": ".py",
   "mimetype": "text/x-python",
   "name": "python",
   "nbconvert_exporter": "python",
   "pygments_lexer": "ipython3",
   "version": "3.9.7"
  }
 },
 "nbformat": 4,
 "nbformat_minor": 5
}
