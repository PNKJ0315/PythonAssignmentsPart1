{
 "cells": [
  {
   "cell_type": "code",
   "execution_count": null,
   "id": "d49f350b",
   "metadata": {},
   "outputs": [],
   "source": [
    "# Assignment No 18\n",
    "# PP to find the largest number in the list"
   ]
  },
  {
   "cell_type": "code",
   "execution_count": 29,
   "id": "51cf20dc",
   "metadata": {},
   "outputs": [
    {
     "name": "stdout",
     "output_type": "stream",
     "text": [
      "How many number you want add in list5\n",
      "enter 0 index number :: 77\n",
      "enter 1 index number :: 99\n",
      "enter 2 index number :: 88\n",
      "enter 3 index number :: 405\n",
      "enter 4 index number :: 55\n",
      "List ::  [77, 99, 88, 405, 55]\n",
      "Largest Number is ::  405\n"
     ]
    }
   ],
   "source": [
    "list1=list()\n",
    "total_count=int(input('How many number you want add in list'))\n",
    "for i in range(total_count):\n",
    "    num=int(input(f'enter {i} index number :: '))\n",
    "    list1.append(num)\n",
    "print('List :: ',list1)\n",
    "# print(max(list1)) #direct method\n",
    "max_num=list1[0]\n",
    "for j in list1:\n",
    "    if j > max_num:\n",
    "        max_num=j\n",
    "print('Largest Number is :: ',max_num)"
   ]
  },
  {
   "cell_type": "code",
   "execution_count": 8,
   "id": "0aefe049",
   "metadata": {},
   "outputs": [
    {
     "data": {
      "text/plain": [
       "[45, 10, 99, 75, 19, 78]"
      ]
     },
     "execution_count": 8,
     "metadata": {},
     "output_type": "execute_result"
    }
   ],
   "source": [
    "list1"
   ]
  },
  {
   "cell_type": "code",
   "execution_count": null,
   "id": "11e6e04d",
   "metadata": {},
   "outputs": [],
   "source": []
  }
 ],
 "metadata": {
  "kernelspec": {
   "display_name": "Python 3 (ipykernel)",
   "language": "python",
   "name": "python3"
  },
  "language_info": {
   "codemirror_mode": {
    "name": "ipython",
    "version": 3
   },
   "file_extension": ".py",
   "mimetype": "text/x-python",
   "name": "python",
   "nbconvert_exporter": "python",
   "pygments_lexer": "ipython3",
   "version": "3.9.7"
  }
 },
 "nbformat": 4,
 "nbformat_minor": 5
}
