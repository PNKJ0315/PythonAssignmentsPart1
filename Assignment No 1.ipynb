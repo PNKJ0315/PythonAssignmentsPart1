{
 "cells": [
  {
   "cell_type": "code",
   "execution_count": 1,
   "id": "d6f256eb",
   "metadata": {},
   "outputs": [
    {
     "data": {
      "text/plain": [
       "'Python program to calculate the avg of numbers in lists'"
      ]
     },
     "execution_count": 1,
     "metadata": {},
     "output_type": "execute_result"
    }
   ],
   "source": [
    "''' Assignment No 1\n",
    "Python program to calculate the avg of numbers in lists'''"
   ]
  },
  {
   "cell_type": "code",
   "execution_count": 2,
   "id": "98d81afa",
   "metadata": {},
   "outputs": [],
   "source": [
    "#creting list\n",
    "list1=[70,500,21,90,257,163,405]"
   ]
  },
  {
   "cell_type": "code",
   "execution_count": 3,
   "id": "cec9f97f",
   "metadata": {},
   "outputs": [
    {
     "data": {
      "text/plain": [
       "[70, 500, 21, 90, 257, 163, 405]"
      ]
     },
     "execution_count": 3,
     "metadata": {},
     "output_type": "execute_result"
    }
   ],
   "source": [
    "list1  #print list"
   ]
  },
  {
   "cell_type": "code",
   "execution_count": 6,
   "id": "82bbe39b",
   "metadata": {},
   "outputs": [],
   "source": [
    "#lets find out length of given list\n",
    "length = len(list1) #len() is used for finding out the number of elements present in list\n",
    "#here we stored length of 'list1' in 'length' variable"
   ]
  },
  {
   "cell_type": "code",
   "execution_count": 7,
   "id": "0a16053b",
   "metadata": {},
   "outputs": [
    {
     "data": {
      "text/plain": [
       "7"
      ]
     },
     "execution_count": 7,
     "metadata": {},
     "output_type": "execute_result"
    }
   ],
   "source": [
    "length  #printing length"
   ]
  },
  {
   "cell_type": "code",
   "execution_count": 9,
   "id": "1ff6cf6d",
   "metadata": {},
   "outputs": [],
   "source": [
    "#calculate sum of given elements present in the list\n",
    "#for that we can use library defined function 'sum() : it will return the sum of all elements present in list'\n",
    "total=sum(list1)\n",
    "#here we stored total sum of the elements present in the list"
   ]
  },
  {
   "cell_type": "code",
   "execution_count": 10,
   "id": "7c0216f8",
   "metadata": {},
   "outputs": [
    {
     "data": {
      "text/plain": [
       "1506"
      ]
     },
     "execution_count": 10,
     "metadata": {},
     "output_type": "execute_result"
    }
   ],
   "source": [
    "total #printing total "
   ]
  },
  {
   "cell_type": "code",
   "execution_count": 11,
   "id": "46cd1bd4",
   "metadata": {},
   "outputs": [],
   "source": [
    "#now we can calculate the average of given numbers peresent in the list\n",
    "avg=total/length "
   ]
  },
  {
   "cell_type": "code",
   "execution_count": 12,
   "id": "8ebf76ae",
   "metadata": {},
   "outputs": [
    {
     "data": {
      "text/plain": [
       "215.14285714285714"
      ]
     },
     "execution_count": 12,
     "metadata": {},
     "output_type": "execute_result"
    }
   ],
   "source": [
    "avg #printing avg"
   ]
  },
  {
   "cell_type": "code",
   "execution_count": 13,
   "id": "7d182fb4",
   "metadata": {},
   "outputs": [
    {
     "data": {
      "text/plain": [
       "[70, 500, 21, 90, 257, 163, 405]"
      ]
     },
     "execution_count": 13,
     "metadata": {},
     "output_type": "execute_result"
    }
   ],
   "source": [
    "list1 #printing list"
   ]
  },
  {
   "cell_type": "code",
   "execution_count": 17,
   "id": "2bea9fa1",
   "metadata": {},
   "outputs": [],
   "source": [
    "#in other way to find out sum of numbers\n",
    "t=0  #intialise total to 'Zero' 0\n",
    "\n",
    "#lets find out sum by using for loop\n",
    "for i in list1: #internally (i=0;i<=len(list1);i++)\n",
    "    t +=i  # internally 't=t+i'\n",
    "    #here we get sum"
   ]
  },
  {
   "cell_type": "code",
   "execution_count": 18,
   "id": "42b1cf57",
   "metadata": {},
   "outputs": [
    {
     "data": {
      "text/plain": [
       "1506"
      ]
     },
     "execution_count": 18,
     "metadata": {},
     "output_type": "execute_result"
    }
   ],
   "source": [
    "t  "
   ]
  },
  {
   "cell_type": "code",
   "execution_count": 24,
   "id": "2fd7791e",
   "metadata": {},
   "outputs": [
    {
     "data": {
      "text/plain": [
       "[70, 500, 21, 90, 257, 163, 405]"
      ]
     },
     "execution_count": 24,
     "metadata": {},
     "output_type": "execute_result"
    }
   ],
   "source": [
    "#now calculate average\n",
    "list1"
   ]
  },
  {
   "cell_type": "code",
   "execution_count": 25,
   "id": "0c78ad11",
   "metadata": {},
   "outputs": [],
   "source": [
    "average=t/length #avg calculated and stored in variable"
   ]
  },
  {
   "cell_type": "code",
   "execution_count": 20,
   "id": "0c56f8f2",
   "metadata": {},
   "outputs": [
    {
     "data": {
      "text/plain": [
       "215.14285714285714"
      ]
     },
     "execution_count": 20,
     "metadata": {},
     "output_type": "execute_result"
    }
   ],
   "source": [
    "average #printing avg"
   ]
  },
  {
   "cell_type": "code",
   "execution_count": 22,
   "id": "e68243cd",
   "metadata": {},
   "outputs": [
    {
     "data": {
      "text/plain": [
       "215.14285714285714"
      ]
     },
     "execution_count": 22,
     "metadata": {},
     "output_type": "execute_result"
    }
   ],
   "source": [
    "#or we can directly calculate average\n",
    "sum(list1)/len(list1)"
   ]
  },
  {
   "cell_type": "code",
   "execution_count": null,
   "id": "3415b96e",
   "metadata": {},
   "outputs": [],
   "source": []
  }
 ],
 "metadata": {
  "kernelspec": {
   "display_name": "Python 3 (ipykernel)",
   "language": "python",
   "name": "python3"
  },
  "language_info": {
   "codemirror_mode": {
    "name": "ipython",
    "version": 3
   },
   "file_extension": ".py",
   "mimetype": "text/x-python",
   "name": "python",
   "nbconvert_exporter": "python",
   "pygments_lexer": "ipython3",
   "version": "3.9.7"
  }
 },
 "nbformat": 4,
 "nbformat_minor": 5
}
