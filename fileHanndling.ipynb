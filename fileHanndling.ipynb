{
 "cells": [
  {
   "cell_type": "code",
   "execution_count": null,
   "id": "9280c0ef",
   "metadata": {},
   "outputs": [],
   "source": [
    "# file handling --read mode"
   ]
  },
  {
   "cell_type": "code",
   "execution_count": 29,
   "id": "dc770a1e",
   "metadata": {},
   "outputs": [
    {
     "name": "stdout",
     "output_type": "stream",
     "text": [
      "Python too supports file handling and allows users to handle files \n",
      "i.e., to read and write files, along with many other file handling options, to operate on files. \n",
      "The concept of file handling has stretched over various other languages, \n",
      "but the implementation is either complicated or lengthy, but like other concepts of Python, \n",
      "this concept here is also easy and short. \n",
      "Python treats files differently as text or binary and this is important. \n",
      "Each line of code includes a sequence of characters and they form a text file. \n",
      "Each line of a file is terminated with a special character, \n",
      "called the EOL or End of Line characters like comma {,} or newline character. \n",
      "It ends the current line and tells the interpreter a new one has begun. \n",
      "Letâ€™s start with the reading and writing files.\n"
     ]
    }
   ],
   "source": [
    "fp=open(\"pythonFileHandling.txt\",'r')  # 'r' open file in real only mode\n",
    "# print(fp.read())\n",
    "data=fp.read()  # show all file data\n",
    "print(data)\n",
    "fp.close() # it will close the file"
   ]
  },
  {
   "cell_type": "code",
   "execution_count": null,
   "id": "462357da",
   "metadata": {},
   "outputs": [],
   "source": []
  },
  {
   "cell_type": "code",
   "execution_count": 23,
   "id": "34d80456",
   "metadata": {},
   "outputs": [
    {
     "name": "stdout",
     "output_type": "stream",
     "text": [
      "P\n"
     ]
    }
   ],
   "source": [
    "fp=open(\"pythonFileHandling.txt\",'r')\n",
    "data=fp.readline() #featch one line and store it into list\n",
    "print(data)\n",
    "fp.close()"
   ]
  },
  {
   "cell_type": "code",
   "execution_count": null,
   "id": "ee19abe7",
   "metadata": {},
   "outputs": [],
   "source": []
  },
  {
   "cell_type": "code",
   "execution_count": 22,
   "id": "6a49d824",
   "metadata": {},
   "outputs": [
    {
     "name": "stdout",
     "output_type": "stream",
     "text": [
      "['Python too supports file handling and allows users to handle files \\n', 'i.e., to read and write files, along with many other file handling options, to operate on files. \\n', 'The concept of file handling has stretched over various other languages, \\n', 'but the implementation is either complicated or lengthy, but like other concepts of Python, \\n', 'this concept here is also easy and short. \\n', 'Python treats files differently as text or binary and this is important. \\n', 'Each line of code includes a sequence of characters and they form a text file. \\n', 'Each line of a file is terminated with a special character, \\n', 'called the EOL or End of Line characters like comma {,} or newline character. \\n', 'It ends the current line and tells the interpreter a new one has begun. \\n', 'Letâ€™s start with the reading and writing files.']\n"
     ]
    }
   ],
   "source": [
    "fp=open(\"pythonFileHandling.txt\",'r')\n",
    "data=fp.readlines() #show file all data in list format\n",
    "print(data)\n",
    "fp.close()"
   ]
  },
  {
   "cell_type": "code",
   "execution_count": null,
   "id": "64e146cf",
   "metadata": {},
   "outputs": [],
   "source": []
  },
  {
   "cell_type": "code",
   "execution_count": 26,
   "id": "85d5d5f7",
   "metadata": {},
   "outputs": [
    {
     "name": "stdout",
     "output_type": "stream",
     "text": [
      "Letâ€™s start with the reading and writing files.\n"
     ]
    }
   ],
   "source": [
    "fp=open(\"pythonFileHandling.txt\",'r')\n",
    "data=fp.readlines() #show file all data in list format\n",
    "print(data[-1]) #by providing index number we can access data linewise stored in list format\n",
    "fp.close()"
   ]
  },
  {
   "cell_type": "code",
   "execution_count": null,
   "id": "566f1331",
   "metadata": {},
   "outputs": [],
   "source": []
  },
  {
   "cell_type": "code",
   "execution_count": null,
   "id": "73224a7f",
   "metadata": {},
   "outputs": [],
   "source": []
  },
  {
   "cell_type": "code",
   "execution_count": 14,
   "id": "6aeb3559",
   "metadata": {},
   "outputs": [],
   "source": [
    "str1='abcdefghijklmanop'"
   ]
  },
  {
   "cell_type": "code",
   "execution_count": 6,
   "id": "63add93f",
   "metadata": {},
   "outputs": [
    {
     "name": "stdout",
     "output_type": "stream",
     "text": [
      "aeimp\n"
     ]
    }
   ],
   "source": [
    "print(str1[::4])"
   ]
  },
  {
   "cell_type": "code",
   "execution_count": null,
   "id": "314b9876",
   "metadata": {},
   "outputs": [],
   "source": []
  },
  {
   "cell_type": "code",
   "execution_count": null,
   "id": "d552fb2f",
   "metadata": {},
   "outputs": [],
   "source": [
    "# file handling --write mode"
   ]
  },
  {
   "cell_type": "code",
   "execution_count": 30,
   "id": "ad29c9b5",
   "metadata": {},
   "outputs": [],
   "source": [
    "fp=open('test.txt','w') #open file in write mode, if file not found it will create new file\n",
    "fp.write('pankaj')  # it will override previous data\n",
    "fp.write('lakade')\n",
    "# or\n",
    "fp.write('''Python too supports file handling and allows users to handle files.\n",
    "The concept of file handling has stretched over various other languages, \n",
    "but the implementation is either complicated or lengthy, but like other concepts of Python, \n",
    "''')\n",
    "fp.close()"
   ]
  },
  {
   "cell_type": "code",
   "execution_count": null,
   "id": "1ea060ff",
   "metadata": {},
   "outputs": [],
   "source": []
  },
  {
   "cell_type": "code",
   "execution_count": 31,
   "id": "1f1afc12",
   "metadata": {},
   "outputs": [],
   "source": [
    "# writelines( ) : write multiple line\n",
    "fp=open('test.txt','w')\n",
    "fp.writelines('''abc\n",
    "pqr\n",
    "mno\n",
    "xyz''')\n",
    "fp.close()"
   ]
  },
  {
   "cell_type": "code",
   "execution_count": null,
   "id": "7ff380f3",
   "metadata": {},
   "outputs": [],
   "source": []
  },
  {
   "cell_type": "code",
   "execution_count": null,
   "id": "f4304a32",
   "metadata": {},
   "outputs": [],
   "source": [
    "# append mode"
   ]
  },
  {
   "cell_type": "code",
   "execution_count": 32,
   "id": "58a15238",
   "metadata": {},
   "outputs": [],
   "source": [
    "file = open('test.txt','a') # append mode add new line at end of file, it doesnot override data\n",
    "file.write(\"\\nThis will add this line\")\n",
    "file.close()"
   ]
  },
  {
   "cell_type": "code",
   "execution_count": null,
   "id": "e66fc5a8",
   "metadata": {},
   "outputs": [],
   "source": []
  },
  {
   "cell_type": "code",
   "execution_count": null,
   "id": "64fbb32e",
   "metadata": {},
   "outputs": [],
   "source": [
    "# r+ mode : read then write mode"
   ]
  },
  {
   "cell_type": "code",
   "execution_count": 39,
   "id": "29d24c9a",
   "metadata": {},
   "outputs": [
    {
     "name": "stdout",
     "output_type": "stream",
     "text": [
      "['abc\\n', 'pqr\\n', 'mno\\n', 'xyz']\n",
      "['abc\\n', 'pqr\\n', 'mno\\n', 'xyz']\n"
     ]
    }
   ],
   "source": [
    "fp=open('test.txt','r+')\n",
    "data=fp.readlines()\n",
    "print(data)\n",
    "fp.write('\\naaa')\n",
    "fp.close()"
   ]
  },
  {
   "cell_type": "code",
   "execution_count": null,
   "id": "ae6131ed",
   "metadata": {},
   "outputs": [],
   "source": []
  },
  {
   "cell_type": "code",
   "execution_count": null,
   "id": "605a2fa2",
   "metadata": {},
   "outputs": [],
   "source": [
    "for i in range(1,6):\n",
    "    fp=open(f'test_{i}.txt','w')"
   ]
  },
  {
   "cell_type": "code",
   "execution_count": null,
   "id": "11a5c4a9",
   "metadata": {},
   "outputs": [],
   "source": []
  },
  {
   "cell_type": "code",
   "execution_count": null,
   "id": "c56a32a3",
   "metadata": {},
   "outputs": [],
   "source": [
    "# fileHandling on csv files"
   ]
  },
  {
   "cell_type": "code",
   "execution_count": null,
   "id": "4d8ca4cb",
   "metadata": {},
   "outputs": [],
   "source": []
  },
  {
   "cell_type": "code",
   "execution_count": null,
   "id": "2344f643",
   "metadata": {},
   "outputs": [],
   "source": []
  },
  {
   "cell_type": "code",
   "execution_count": null,
   "id": "0634fbe6",
   "metadata": {},
   "outputs": [],
   "source": []
  },
  {
   "cell_type": "code",
   "execution_count": null,
   "id": "6cd82df9",
   "metadata": {},
   "outputs": [],
   "source": []
  },
  {
   "cell_type": "code",
   "execution_count": null,
   "id": "b534e480",
   "metadata": {},
   "outputs": [],
   "source": []
  }
 ],
 "metadata": {
  "kernelspec": {
   "display_name": "Python 3 (ipykernel)",
   "language": "python",
   "name": "python3"
  },
  "language_info": {
   "codemirror_mode": {
    "name": "ipython",
    "version": 3
   },
   "file_extension": ".py",
   "mimetype": "text/x-python",
   "name": "python",
   "nbconvert_exporter": "python",
   "pygments_lexer": "ipython3",
   "version": "3.9.7"
  }
 },
 "nbformat": 4,
 "nbformat_minor": 5
}
