{
 "cells": [
  {
   "cell_type": "code",
   "execution_count": null,
   "id": "4798d8c9",
   "metadata": {},
   "outputs": [],
   "source": [
    "# Assignment No 16\n",
    "# PP to print identity matrix"
   ]
  },
  {
   "cell_type": "code",
   "execution_count": 18,
   "id": "5a4d9bf7",
   "metadata": {},
   "outputs": [
    {
     "name": "stdout",
     "output_type": "stream",
     "text": [
      "enter number3\n",
      "1 0 0 \n",
      "0 1 0 \n",
      "0 0 1 \n"
     ]
    }
   ],
   "source": [
    "num=int(input('enter number'))\n",
    "for i in range(num):\n",
    "    for j in range(num):\n",
    "        if i==j:\n",
    "            print('1',end=' ')\n",
    "        else:\n",
    "            print('0',end=' ')\n",
    "    print()"
   ]
  },
  {
   "cell_type": "code",
   "execution_count": null,
   "id": "165dd8f7",
   "metadata": {},
   "outputs": [],
   "source": []
  },
  {
   "cell_type": "code",
   "execution_count": null,
   "id": "2f75ffac",
   "metadata": {},
   "outputs": [],
   "source": []
  }
 ],
 "metadata": {
  "kernelspec": {
   "display_name": "Python 3 (ipykernel)",
   "language": "python",
   "name": "python3"
  },
  "language_info": {
   "codemirror_mode": {
    "name": "ipython",
    "version": 3
   },
   "file_extension": ".py",
   "mimetype": "text/x-python",
   "name": "python",
   "nbconvert_exporter": "python",
   "pygments_lexer": "ipython3",
   "version": "3.9.7"
  }
 },
 "nbformat": 4,
 "nbformat_minor": 5
}
