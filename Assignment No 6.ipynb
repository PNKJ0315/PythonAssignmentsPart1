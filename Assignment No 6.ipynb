{
 "cells": [
  {
   "cell_type": "code",
   "execution_count": null,
   "id": "f9db4a14",
   "metadata": {},
   "outputs": [],
   "source": [
    "'''Assignment No 6\n",
    "python program to prirnt all numbers in range divisible by given number\n",
    "'''"
   ]
  },
  {
   "cell_type": "code",
   "execution_count": 1,
   "id": "4f642b68",
   "metadata": {},
   "outputs": [
    {
     "name": "stdout",
     "output_type": "stream",
     "text": [
      "enter number :: 77\n",
      "77 is divisible by\n",
      "1, 7, 11, 77\n"
     ]
    }
   ],
   "source": [
    "num = int(input('enter number :: '))\n",
    "print(f'{num} is divisible by')\n",
    "for i in range(1, num // 2 + 1):\n",
    "    if (num % i == 0):\n",
    "        print(i, end =', ')\n",
    "print(num)"
   ]
  },
  {
   "cell_type": "code",
   "execution_count": null,
   "id": "409f1704",
   "metadata": {},
   "outputs": [],
   "source": []
  }
 ],
 "metadata": {
  "kernelspec": {
   "display_name": "Python 3 (ipykernel)",
   "language": "python",
   "name": "python3"
  },
  "language_info": {
   "codemirror_mode": {
    "name": "ipython",
    "version": 3
   },
   "file_extension": ".py",
   "mimetype": "text/x-python",
   "name": "python",
   "nbconvert_exporter": "python",
   "pygments_lexer": "ipython3",
   "version": "3.9.7"
  }
 },
 "nbformat": 4,
 "nbformat_minor": 5
}
