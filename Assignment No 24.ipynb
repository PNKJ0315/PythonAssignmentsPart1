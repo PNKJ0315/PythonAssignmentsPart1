{
 "cells": [
  {
   "cell_type": "code",
   "execution_count": null,
   "id": "4350a050",
   "metadata": {},
   "outputs": [],
   "source": [
    "# Assignment No 24\n",
    "# PP to remove the duplicate items from the list"
   ]
  },
  {
   "cell_type": "code",
   "execution_count": 1,
   "id": "84235ed6",
   "metadata": {},
   "outputs": [],
   "source": [
    "list1=[10,20,30,40,10,10,30,40,50,50,70,75,62,25,80,90,70]"
   ]
  },
  {
   "cell_type": "code",
   "execution_count": 2,
   "id": "d9a08099",
   "metadata": {},
   "outputs": [
    {
     "data": {
      "text/plain": [
       "[10, 20, 30, 40, 10, 10, 30, 40, 50, 50, 70, 75, 62, 25, 80, 90, 70]"
      ]
     },
     "execution_count": 2,
     "metadata": {},
     "output_type": "execute_result"
    }
   ],
   "source": [
    "list1"
   ]
  },
  {
   "cell_type": "code",
   "execution_count": 4,
   "id": "19f0f17b",
   "metadata": {},
   "outputs": [],
   "source": [
    "l2=set(list1)"
   ]
  },
  {
   "cell_type": "code",
   "execution_count": 5,
   "id": "b000ff26",
   "metadata": {},
   "outputs": [
    {
     "data": {
      "text/plain": [
       "{10, 20, 25, 30, 40, 50, 62, 70, 75, 80, 90}"
      ]
     },
     "execution_count": 5,
     "metadata": {},
     "output_type": "execute_result"
    }
   ],
   "source": [
    "l2"
   ]
  },
  {
   "cell_type": "code",
   "execution_count": 6,
   "id": "d2ffe1d1",
   "metadata": {},
   "outputs": [],
   "source": [
    "l1=list(l2)"
   ]
  },
  {
   "cell_type": "code",
   "execution_count": 7,
   "id": "699ee791",
   "metadata": {},
   "outputs": [
    {
     "data": {
      "text/plain": [
       "[70, 40, 10, 75, 80, 50, 20, 62, 25, 90, 30]"
      ]
     },
     "execution_count": 7,
     "metadata": {},
     "output_type": "execute_result"
    }
   ],
   "source": [
    "l1"
   ]
  },
  {
   "cell_type": "code",
   "execution_count": null,
   "id": "7ea62ae8",
   "metadata": {},
   "outputs": [],
   "source": []
  }
 ],
 "metadata": {
  "kernelspec": {
   "display_name": "Python 3 (ipykernel)",
   "language": "python",
   "name": "python3"
  },
  "language_info": {
   "codemirror_mode": {
    "name": "ipython",
    "version": 3
   },
   "file_extension": ".py",
   "mimetype": "text/x-python",
   "name": "python",
   "nbconvert_exporter": "python",
   "pygments_lexer": "ipython3",
   "version": "3.9.7"
  }
 },
 "nbformat": 4,
 "nbformat_minor": 5
}
