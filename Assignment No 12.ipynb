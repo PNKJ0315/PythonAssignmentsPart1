{
 "cells": [
  {
   "cell_type": "code",
   "execution_count": null,
   "id": "9c22d6ea",
   "metadata": {},
   "outputs": [],
   "source": [
    "# Assignment No 12\n",
    "# PP to count the number of digits in num"
   ]
  },
  {
   "cell_type": "code",
   "execution_count": 7,
   "id": "4b15f899",
   "metadata": {},
   "outputs": [
    {
     "name": "stdout",
     "output_type": "stream",
     "text": [
      "enter number :: 456\n",
      "The number of digits in given number are ::  3\n"
     ]
    }
   ],
   "source": [
    "num=int(input('enter number :: '))\n",
    "count=0\n",
    "while(num!=0):\n",
    "    num=num//10\n",
    "    count=count+1\n",
    "print('The number of digits in given number are :: ',count)"
   ]
  },
  {
   "cell_type": "code",
   "execution_count": null,
   "id": "bce4eb4b",
   "metadata": {},
   "outputs": [],
   "source": []
  },
  {
   "cell_type": "code",
   "execution_count": null,
   "id": "01a1a4c0",
   "metadata": {},
   "outputs": [],
   "source": []
  }
 ],
 "metadata": {
  "kernelspec": {
   "display_name": "Python 3 (ipykernel)",
   "language": "python",
   "name": "python3"
  },
  "language_info": {
   "codemirror_mode": {
    "name": "ipython",
    "version": 3
   },
   "file_extension": ".py",
   "mimetype": "text/x-python",
   "name": "python",
   "nbconvert_exporter": "python",
   "pygments_lexer": "ipython3",
   "version": "3.9.7"
  }
 },
 "nbformat": 4,
 "nbformat_minor": 5
}
